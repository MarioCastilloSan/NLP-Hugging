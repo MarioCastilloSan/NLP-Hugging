{
  "nbformat": 4,
  "nbformat_minor": 0,
  "metadata": {
    "colab": {
      "provenance": [],
      "collapsed_sections": [
        "l0Ii_i9nJvMl",
        "8lETwFbBkQIw"
      ]
    },
    "kernelspec": {
      "name": "python3",
      "display_name": "Python 3"
    },
    "language_info": {
      "name": "python"
    },
    "widgets": {
      "application/vnd.jupyter.widget-state+json": {
        "738dbe7b3b3b428d85aada192613d9bc": {
          "model_module": "@jupyter-widgets/controls",
          "model_name": "HBoxModel",
          "model_module_version": "1.5.0",
          "state": {
            "_dom_classes": [],
            "_model_module": "@jupyter-widgets/controls",
            "_model_module_version": "1.5.0",
            "_model_name": "HBoxModel",
            "_view_count": null,
            "_view_module": "@jupyter-widgets/controls",
            "_view_module_version": "1.5.0",
            "_view_name": "HBoxView",
            "box_style": "",
            "children": [
              "IPY_MODEL_4d15542ae58c49c99c5da22756b3faa9",
              "IPY_MODEL_1ccff0305ac44a30a3a01e42a9174726",
              "IPY_MODEL_8b7c6e7300724cf799de4267e8129e9e"
            ],
            "layout": "IPY_MODEL_aa718c3dd5424662872ffdfb4c8dbd0a"
          }
        },
        "4d15542ae58c49c99c5da22756b3faa9": {
          "model_module": "@jupyter-widgets/controls",
          "model_name": "HTMLModel",
          "model_module_version": "1.5.0",
          "state": {
            "_dom_classes": [],
            "_model_module": "@jupyter-widgets/controls",
            "_model_module_version": "1.5.0",
            "_model_name": "HTMLModel",
            "_view_count": null,
            "_view_module": "@jupyter-widgets/controls",
            "_view_module_version": "1.5.0",
            "_view_name": "HTMLView",
            "description": "",
            "description_tooltip": null,
            "layout": "IPY_MODEL_1997fdf81f884ea096baf45ce7b464d1",
            "placeholder": "​",
            "style": "IPY_MODEL_f388494fb6244fd3a015a104efe92ed0",
            "value": "100%"
          }
        },
        "1ccff0305ac44a30a3a01e42a9174726": {
          "model_module": "@jupyter-widgets/controls",
          "model_name": "FloatProgressModel",
          "model_module_version": "1.5.0",
          "state": {
            "_dom_classes": [],
            "_model_module": "@jupyter-widgets/controls",
            "_model_module_version": "1.5.0",
            "_model_name": "FloatProgressModel",
            "_view_count": null,
            "_view_module": "@jupyter-widgets/controls",
            "_view_module_version": "1.5.0",
            "_view_name": "ProgressView",
            "bar_style": "success",
            "description": "",
            "description_tooltip": null,
            "layout": "IPY_MODEL_902b1419899a4553ac565cafb3dce87a",
            "max": 2,
            "min": 0,
            "orientation": "horizontal",
            "style": "IPY_MODEL_8a1fb55aaf844f19835eaa2a7a5d2032",
            "value": 2
          }
        },
        "8b7c6e7300724cf799de4267e8129e9e": {
          "model_module": "@jupyter-widgets/controls",
          "model_name": "HTMLModel",
          "model_module_version": "1.5.0",
          "state": {
            "_dom_classes": [],
            "_model_module": "@jupyter-widgets/controls",
            "_model_module_version": "1.5.0",
            "_model_name": "HTMLModel",
            "_view_count": null,
            "_view_module": "@jupyter-widgets/controls",
            "_view_module_version": "1.5.0",
            "_view_name": "HTMLView",
            "description": "",
            "description_tooltip": null,
            "layout": "IPY_MODEL_7c78a15a4b2048ed9b49ab53aaa63e8c",
            "placeholder": "​",
            "style": "IPY_MODEL_c267119f9c97499f99e6387b83012d7f",
            "value": " 2/2 [00:00&lt;00:00, 60.91it/s]"
          }
        },
        "aa718c3dd5424662872ffdfb4c8dbd0a": {
          "model_module": "@jupyter-widgets/base",
          "model_name": "LayoutModel",
          "model_module_version": "1.2.0",
          "state": {
            "_model_module": "@jupyter-widgets/base",
            "_model_module_version": "1.2.0",
            "_model_name": "LayoutModel",
            "_view_count": null,
            "_view_module": "@jupyter-widgets/base",
            "_view_module_version": "1.2.0",
            "_view_name": "LayoutView",
            "align_content": null,
            "align_items": null,
            "align_self": null,
            "border": null,
            "bottom": null,
            "display": null,
            "flex": null,
            "flex_flow": null,
            "grid_area": null,
            "grid_auto_columns": null,
            "grid_auto_flow": null,
            "grid_auto_rows": null,
            "grid_column": null,
            "grid_gap": null,
            "grid_row": null,
            "grid_template_areas": null,
            "grid_template_columns": null,
            "grid_template_rows": null,
            "height": null,
            "justify_content": null,
            "justify_items": null,
            "left": null,
            "margin": null,
            "max_height": null,
            "max_width": null,
            "min_height": null,
            "min_width": null,
            "object_fit": null,
            "object_position": null,
            "order": null,
            "overflow": null,
            "overflow_x": null,
            "overflow_y": null,
            "padding": null,
            "right": null,
            "top": null,
            "visibility": null,
            "width": null
          }
        },
        "1997fdf81f884ea096baf45ce7b464d1": {
          "model_module": "@jupyter-widgets/base",
          "model_name": "LayoutModel",
          "model_module_version": "1.2.0",
          "state": {
            "_model_module": "@jupyter-widgets/base",
            "_model_module_version": "1.2.0",
            "_model_name": "LayoutModel",
            "_view_count": null,
            "_view_module": "@jupyter-widgets/base",
            "_view_module_version": "1.2.0",
            "_view_name": "LayoutView",
            "align_content": null,
            "align_items": null,
            "align_self": null,
            "border": null,
            "bottom": null,
            "display": null,
            "flex": null,
            "flex_flow": null,
            "grid_area": null,
            "grid_auto_columns": null,
            "grid_auto_flow": null,
            "grid_auto_rows": null,
            "grid_column": null,
            "grid_gap": null,
            "grid_row": null,
            "grid_template_areas": null,
            "grid_template_columns": null,
            "grid_template_rows": null,
            "height": null,
            "justify_content": null,
            "justify_items": null,
            "left": null,
            "margin": null,
            "max_height": null,
            "max_width": null,
            "min_height": null,
            "min_width": null,
            "object_fit": null,
            "object_position": null,
            "order": null,
            "overflow": null,
            "overflow_x": null,
            "overflow_y": null,
            "padding": null,
            "right": null,
            "top": null,
            "visibility": null,
            "width": null
          }
        },
        "f388494fb6244fd3a015a104efe92ed0": {
          "model_module": "@jupyter-widgets/controls",
          "model_name": "DescriptionStyleModel",
          "model_module_version": "1.5.0",
          "state": {
            "_model_module": "@jupyter-widgets/controls",
            "_model_module_version": "1.5.0",
            "_model_name": "DescriptionStyleModel",
            "_view_count": null,
            "_view_module": "@jupyter-widgets/base",
            "_view_module_version": "1.2.0",
            "_view_name": "StyleView",
            "description_width": ""
          }
        },
        "902b1419899a4553ac565cafb3dce87a": {
          "model_module": "@jupyter-widgets/base",
          "model_name": "LayoutModel",
          "model_module_version": "1.2.0",
          "state": {
            "_model_module": "@jupyter-widgets/base",
            "_model_module_version": "1.2.0",
            "_model_name": "LayoutModel",
            "_view_count": null,
            "_view_module": "@jupyter-widgets/base",
            "_view_module_version": "1.2.0",
            "_view_name": "LayoutView",
            "align_content": null,
            "align_items": null,
            "align_self": null,
            "border": null,
            "bottom": null,
            "display": null,
            "flex": null,
            "flex_flow": null,
            "grid_area": null,
            "grid_auto_columns": null,
            "grid_auto_flow": null,
            "grid_auto_rows": null,
            "grid_column": null,
            "grid_gap": null,
            "grid_row": null,
            "grid_template_areas": null,
            "grid_template_columns": null,
            "grid_template_rows": null,
            "height": null,
            "justify_content": null,
            "justify_items": null,
            "left": null,
            "margin": null,
            "max_height": null,
            "max_width": null,
            "min_height": null,
            "min_width": null,
            "object_fit": null,
            "object_position": null,
            "order": null,
            "overflow": null,
            "overflow_x": null,
            "overflow_y": null,
            "padding": null,
            "right": null,
            "top": null,
            "visibility": null,
            "width": null
          }
        },
        "8a1fb55aaf844f19835eaa2a7a5d2032": {
          "model_module": "@jupyter-widgets/controls",
          "model_name": "ProgressStyleModel",
          "model_module_version": "1.5.0",
          "state": {
            "_model_module": "@jupyter-widgets/controls",
            "_model_module_version": "1.5.0",
            "_model_name": "ProgressStyleModel",
            "_view_count": null,
            "_view_module": "@jupyter-widgets/base",
            "_view_module_version": "1.2.0",
            "_view_name": "StyleView",
            "bar_color": null,
            "description_width": ""
          }
        },
        "7c78a15a4b2048ed9b49ab53aaa63e8c": {
          "model_module": "@jupyter-widgets/base",
          "model_name": "LayoutModel",
          "model_module_version": "1.2.0",
          "state": {
            "_model_module": "@jupyter-widgets/base",
            "_model_module_version": "1.2.0",
            "_model_name": "LayoutModel",
            "_view_count": null,
            "_view_module": "@jupyter-widgets/base",
            "_view_module_version": "1.2.0",
            "_view_name": "LayoutView",
            "align_content": null,
            "align_items": null,
            "align_self": null,
            "border": null,
            "bottom": null,
            "display": null,
            "flex": null,
            "flex_flow": null,
            "grid_area": null,
            "grid_auto_columns": null,
            "grid_auto_flow": null,
            "grid_auto_rows": null,
            "grid_column": null,
            "grid_gap": null,
            "grid_row": null,
            "grid_template_areas": null,
            "grid_template_columns": null,
            "grid_template_rows": null,
            "height": null,
            "justify_content": null,
            "justify_items": null,
            "left": null,
            "margin": null,
            "max_height": null,
            "max_width": null,
            "min_height": null,
            "min_width": null,
            "object_fit": null,
            "object_position": null,
            "order": null,
            "overflow": null,
            "overflow_x": null,
            "overflow_y": null,
            "padding": null,
            "right": null,
            "top": null,
            "visibility": null,
            "width": null
          }
        },
        "c267119f9c97499f99e6387b83012d7f": {
          "model_module": "@jupyter-widgets/controls",
          "model_name": "DescriptionStyleModel",
          "model_module_version": "1.5.0",
          "state": {
            "_model_module": "@jupyter-widgets/controls",
            "_model_module_version": "1.5.0",
            "_model_name": "DescriptionStyleModel",
            "_view_count": null,
            "_view_module": "@jupyter-widgets/base",
            "_view_module_version": "1.2.0",
            "_view_name": "StyleView",
            "description_width": ""
          }
        },
        "6d7631b29e37474794d4a3f9bfe7a03b": {
          "model_module": "@jupyter-widgets/controls",
          "model_name": "HBoxModel",
          "model_module_version": "1.5.0",
          "state": {
            "_dom_classes": [],
            "_model_module": "@jupyter-widgets/controls",
            "_model_module_version": "1.5.0",
            "_model_name": "HBoxModel",
            "_view_count": null,
            "_view_module": "@jupyter-widgets/controls",
            "_view_module_version": "1.5.0",
            "_view_name": "HBoxView",
            "box_style": "",
            "children": [
              "IPY_MODEL_503c1c54967b46c0850a53667cdd800f",
              "IPY_MODEL_e2e1743f317a479c95ad5961cb703404",
              "IPY_MODEL_447f43ad68694e039714e23de5b6987b"
            ],
            "layout": "IPY_MODEL_2a4da560a5c74ce084b1251b83c60973"
          }
        },
        "503c1c54967b46c0850a53667cdd800f": {
          "model_module": "@jupyter-widgets/controls",
          "model_name": "HTMLModel",
          "model_module_version": "1.5.0",
          "state": {
            "_dom_classes": [],
            "_model_module": "@jupyter-widgets/controls",
            "_model_module_version": "1.5.0",
            "_model_name": "HTMLModel",
            "_view_count": null,
            "_view_module": "@jupyter-widgets/controls",
            "_view_module_version": "1.5.0",
            "_view_name": "HTMLView",
            "description": "",
            "description_tooltip": null,
            "layout": "IPY_MODEL_4f585f32d1de4146a556b6b1678c95aa",
            "placeholder": "​",
            "style": "IPY_MODEL_eb82580569084fce9c973b4c09df1691",
            "value": "Map: 100%"
          }
        },
        "e2e1743f317a479c95ad5961cb703404": {
          "model_module": "@jupyter-widgets/controls",
          "model_name": "FloatProgressModel",
          "model_module_version": "1.5.0",
          "state": {
            "_dom_classes": [],
            "_model_module": "@jupyter-widgets/controls",
            "_model_module_version": "1.5.0",
            "_model_name": "FloatProgressModel",
            "_view_count": null,
            "_view_module": "@jupyter-widgets/controls",
            "_view_module_version": "1.5.0",
            "_view_name": "ProgressView",
            "bar_style": "",
            "description": "",
            "description_tooltip": null,
            "layout": "IPY_MODEL_fa69b0b323874193b32598a00f396d92",
            "max": 500,
            "min": 0,
            "orientation": "horizontal",
            "style": "IPY_MODEL_906e911a0f4640b3832e994d1bc342ba",
            "value": 500
          }
        },
        "447f43ad68694e039714e23de5b6987b": {
          "model_module": "@jupyter-widgets/controls",
          "model_name": "HTMLModel",
          "model_module_version": "1.5.0",
          "state": {
            "_dom_classes": [],
            "_model_module": "@jupyter-widgets/controls",
            "_model_module_version": "1.5.0",
            "_model_name": "HTMLModel",
            "_view_count": null,
            "_view_module": "@jupyter-widgets/controls",
            "_view_module_version": "1.5.0",
            "_view_name": "HTMLView",
            "description": "",
            "description_tooltip": null,
            "layout": "IPY_MODEL_3099655bb1cc4d40bfb989d2cc214df0",
            "placeholder": "​",
            "style": "IPY_MODEL_af82d149c5a14809a98a29bbd9591871",
            "value": " 500/500 [00:00&lt;00:00, 1635.94 examples/s]"
          }
        },
        "2a4da560a5c74ce084b1251b83c60973": {
          "model_module": "@jupyter-widgets/base",
          "model_name": "LayoutModel",
          "model_module_version": "1.2.0",
          "state": {
            "_model_module": "@jupyter-widgets/base",
            "_model_module_version": "1.2.0",
            "_model_name": "LayoutModel",
            "_view_count": null,
            "_view_module": "@jupyter-widgets/base",
            "_view_module_version": "1.2.0",
            "_view_name": "LayoutView",
            "align_content": null,
            "align_items": null,
            "align_self": null,
            "border": null,
            "bottom": null,
            "display": null,
            "flex": null,
            "flex_flow": null,
            "grid_area": null,
            "grid_auto_columns": null,
            "grid_auto_flow": null,
            "grid_auto_rows": null,
            "grid_column": null,
            "grid_gap": null,
            "grid_row": null,
            "grid_template_areas": null,
            "grid_template_columns": null,
            "grid_template_rows": null,
            "height": null,
            "justify_content": null,
            "justify_items": null,
            "left": null,
            "margin": null,
            "max_height": null,
            "max_width": null,
            "min_height": null,
            "min_width": null,
            "object_fit": null,
            "object_position": null,
            "order": null,
            "overflow": null,
            "overflow_x": null,
            "overflow_y": null,
            "padding": null,
            "right": null,
            "top": null,
            "visibility": "hidden",
            "width": null
          }
        },
        "4f585f32d1de4146a556b6b1678c95aa": {
          "model_module": "@jupyter-widgets/base",
          "model_name": "LayoutModel",
          "model_module_version": "1.2.0",
          "state": {
            "_model_module": "@jupyter-widgets/base",
            "_model_module_version": "1.2.0",
            "_model_name": "LayoutModel",
            "_view_count": null,
            "_view_module": "@jupyter-widgets/base",
            "_view_module_version": "1.2.0",
            "_view_name": "LayoutView",
            "align_content": null,
            "align_items": null,
            "align_self": null,
            "border": null,
            "bottom": null,
            "display": null,
            "flex": null,
            "flex_flow": null,
            "grid_area": null,
            "grid_auto_columns": null,
            "grid_auto_flow": null,
            "grid_auto_rows": null,
            "grid_column": null,
            "grid_gap": null,
            "grid_row": null,
            "grid_template_areas": null,
            "grid_template_columns": null,
            "grid_template_rows": null,
            "height": null,
            "justify_content": null,
            "justify_items": null,
            "left": null,
            "margin": null,
            "max_height": null,
            "max_width": null,
            "min_height": null,
            "min_width": null,
            "object_fit": null,
            "object_position": null,
            "order": null,
            "overflow": null,
            "overflow_x": null,
            "overflow_y": null,
            "padding": null,
            "right": null,
            "top": null,
            "visibility": null,
            "width": null
          }
        },
        "eb82580569084fce9c973b4c09df1691": {
          "model_module": "@jupyter-widgets/controls",
          "model_name": "DescriptionStyleModel",
          "model_module_version": "1.5.0",
          "state": {
            "_model_module": "@jupyter-widgets/controls",
            "_model_module_version": "1.5.0",
            "_model_name": "DescriptionStyleModel",
            "_view_count": null,
            "_view_module": "@jupyter-widgets/base",
            "_view_module_version": "1.2.0",
            "_view_name": "StyleView",
            "description_width": ""
          }
        },
        "fa69b0b323874193b32598a00f396d92": {
          "model_module": "@jupyter-widgets/base",
          "model_name": "LayoutModel",
          "model_module_version": "1.2.0",
          "state": {
            "_model_module": "@jupyter-widgets/base",
            "_model_module_version": "1.2.0",
            "_model_name": "LayoutModel",
            "_view_count": null,
            "_view_module": "@jupyter-widgets/base",
            "_view_module_version": "1.2.0",
            "_view_name": "LayoutView",
            "align_content": null,
            "align_items": null,
            "align_self": null,
            "border": null,
            "bottom": null,
            "display": null,
            "flex": null,
            "flex_flow": null,
            "grid_area": null,
            "grid_auto_columns": null,
            "grid_auto_flow": null,
            "grid_auto_rows": null,
            "grid_column": null,
            "grid_gap": null,
            "grid_row": null,
            "grid_template_areas": null,
            "grid_template_columns": null,
            "grid_template_rows": null,
            "height": null,
            "justify_content": null,
            "justify_items": null,
            "left": null,
            "margin": null,
            "max_height": null,
            "max_width": null,
            "min_height": null,
            "min_width": null,
            "object_fit": null,
            "object_position": null,
            "order": null,
            "overflow": null,
            "overflow_x": null,
            "overflow_y": null,
            "padding": null,
            "right": null,
            "top": null,
            "visibility": null,
            "width": null
          }
        },
        "906e911a0f4640b3832e994d1bc342ba": {
          "model_module": "@jupyter-widgets/controls",
          "model_name": "ProgressStyleModel",
          "model_module_version": "1.5.0",
          "state": {
            "_model_module": "@jupyter-widgets/controls",
            "_model_module_version": "1.5.0",
            "_model_name": "ProgressStyleModel",
            "_view_count": null,
            "_view_module": "@jupyter-widgets/base",
            "_view_module_version": "1.2.0",
            "_view_name": "StyleView",
            "bar_color": null,
            "description_width": ""
          }
        },
        "3099655bb1cc4d40bfb989d2cc214df0": {
          "model_module": "@jupyter-widgets/base",
          "model_name": "LayoutModel",
          "model_module_version": "1.2.0",
          "state": {
            "_model_module": "@jupyter-widgets/base",
            "_model_module_version": "1.2.0",
            "_model_name": "LayoutModel",
            "_view_count": null,
            "_view_module": "@jupyter-widgets/base",
            "_view_module_version": "1.2.0",
            "_view_name": "LayoutView",
            "align_content": null,
            "align_items": null,
            "align_self": null,
            "border": null,
            "bottom": null,
            "display": null,
            "flex": null,
            "flex_flow": null,
            "grid_area": null,
            "grid_auto_columns": null,
            "grid_auto_flow": null,
            "grid_auto_rows": null,
            "grid_column": null,
            "grid_gap": null,
            "grid_row": null,
            "grid_template_areas": null,
            "grid_template_columns": null,
            "grid_template_rows": null,
            "height": null,
            "justify_content": null,
            "justify_items": null,
            "left": null,
            "margin": null,
            "max_height": null,
            "max_width": null,
            "min_height": null,
            "min_width": null,
            "object_fit": null,
            "object_position": null,
            "order": null,
            "overflow": null,
            "overflow_x": null,
            "overflow_y": null,
            "padding": null,
            "right": null,
            "top": null,
            "visibility": null,
            "width": null
          }
        },
        "af82d149c5a14809a98a29bbd9591871": {
          "model_module": "@jupyter-widgets/controls",
          "model_name": "DescriptionStyleModel",
          "model_module_version": "1.5.0",
          "state": {
            "_model_module": "@jupyter-widgets/controls",
            "_model_module_version": "1.5.0",
            "_model_name": "DescriptionStyleModel",
            "_view_count": null,
            "_view_module": "@jupyter-widgets/base",
            "_view_module_version": "1.2.0",
            "_view_name": "StyleView",
            "description_width": ""
          }
        }
      }
    }
  },
  "cells": [
    {
      "cell_type": "code",
      "execution_count": 2,
      "metadata": {
        "colab": {
          "base_uri": "https://localhost:8080/"
        },
        "id": "naxG74pP9M6G",
        "outputId": "44ae0330-9734-45df-dbd6-b700e9546efe"
      },
      "outputs": [
        {
          "output_type": "stream",
          "name": "stderr",
          "text": [
            "The model 'EncoderDecoderModel' is not supported for question-answering. Supported models are ['AlbertForQuestionAnswering', 'BartForQuestionAnswering', 'BertForQuestionAnswering', 'BigBirdForQuestionAnswering', 'BigBirdPegasusForQuestionAnswering', 'BloomForQuestionAnswering', 'CamembertForQuestionAnswering', 'CanineForQuestionAnswering', 'ConvBertForQuestionAnswering', 'Data2VecTextForQuestionAnswering', 'DebertaForQuestionAnswering', 'DebertaV2ForQuestionAnswering', 'DistilBertForQuestionAnswering', 'ElectraForQuestionAnswering', 'ErnieForQuestionAnswering', 'FlaubertForQuestionAnsweringSimple', 'FNetForQuestionAnswering', 'FunnelForQuestionAnswering', 'GPTJForQuestionAnswering', 'IBertForQuestionAnswering', 'LayoutLMv2ForQuestionAnswering', 'LayoutLMv3ForQuestionAnswering', 'LEDForQuestionAnswering', 'LiltForQuestionAnswering', 'LongformerForQuestionAnswering', 'LukeForQuestionAnswering', 'LxmertForQuestionAnswering', 'MarkupLMForQuestionAnswering', 'MBartForQuestionAnswering', 'MegatronBertForQuestionAnswering', 'MobileBertForQuestionAnswering', 'MPNetForQuestionAnswering', 'MvpForQuestionAnswering', 'NezhaForQuestionAnswering', 'NystromformerForQuestionAnswering', 'OPTForQuestionAnswering', 'QDQBertForQuestionAnswering', 'ReformerForQuestionAnswering', 'RemBertForQuestionAnswering', 'RobertaForQuestionAnswering', 'RobertaPreLayerNormForQuestionAnswering', 'RoCBertForQuestionAnswering', 'RoFormerForQuestionAnswering', 'SplinterForQuestionAnswering', 'SqueezeBertForQuestionAnswering', 'XLMForQuestionAnsweringSimple', 'XLMRobertaForQuestionAnswering', 'XLMRobertaXLForQuestionAnswering', 'XLNetForQuestionAnsweringSimple', 'YosoForQuestionAnswering'].\n"
          ]
        },
        {
          "output_type": "stream",
          "name": "stdout",
          "text": [
            " ¿ Cuál es el nombre del río que corre a través del río Tajo? \n"
          ]
        }
      ],
      "source": [
        "from transformers import AutoTokenizer, AutoModelForSeq2SeqLM,pipeline\n",
        "\n",
        "tokenizer = AutoTokenizer.from_pretrained(\"b2bFiles\")\n",
        "modelQ = AutoModelForSeq2SeqLM.from_pretrained(\"b2bFiles\")\n",
        "modelA = pipeline(\"question-answering\", model=modelQ, tokenizer=tokenizer)\n",
        "\n",
        "\n",
        "\n",
        "#To download this model\n",
        "#tokenizer = AutoTokenizer.from_pretrained(\"mrm8488/bert2bert-spanish-question-generation\")\n",
        "#modelQ = AutoModelForSeq2SeqLM.from_pretrained(\"mrm8488/bert2bert-spanish-question-generation\")\n",
        "\n",
        "\n",
        "#To save it once you download it\n",
        "#tokenizer.save_pretrained(\"b2bFiles\")\n",
        "#modelQ.save_pretrained(\"b2bFiles\")\n",
        "\n",
        "def getQuestion(context:str, max_length:int=64)->str:\n",
        "  inputText = \"context: %s </s>\" % ( context)\n",
        "  features = tokenizer([inputText], return_tensors='pt')\n",
        "\n",
        "  output = modelQ.generate(input_ids=features['input_ids'], \n",
        "               attention_mask=features['attention_mask'],\n",
        "               max_length=max_length)\n",
        "\n",
        "  question=tokenizer.decode(output[0]).strip(\"[SEP]\")\n",
        "  question =question.strip(\"CLS]\") \n",
        "  return question\n",
        "\n",
        "\n",
        "\n",
        "  \n",
        "context = \"El Tajo es el río más largo de la península ibérica, a la que atraviesa en su parte central, siguiendo un rumbo este-oeste, con una leve inclinación hacia el suroeste, que se acentúa cuando llega a Portugal, donde recibe el nombre de Tejo. Nace en los montes Universales, en la sierra de Albarracín, sobre la rama occidental del sistema Ibérico y, después de recorrer 1007 km, llega al océano Atlántico en la ciudad de Lisboa. En su desembocadura forma el estuario del mar de la Paja, en el que vierte un caudal medio de 456 m³/s. En sus primeros 816 km atraviesa España, donde discurre por cuatro comunidades autónomas (Aragón, Castilla-La Mancha, Madrid y Extremadura) y un total de seis provincias (Teruel, Guadalajara, Cuenca, Madrid, Toledo y Cáceres).\"\n",
        "\n",
        "\n",
        "print(getQuestion(context))\n",
        "\n",
        "###QUESTION GEN\n",
        "#from transformers import AutoModelForQuestionAnswering\n",
        "#Load withoud downloading\n",
        "#model_name = AutoModelForQuestionAnswering.from_pretrained(\"MarcBrun/ixambert-finetuned-squad-eu-en\")\n",
        "#Load post downloading\n",
        "#model_name = AutoModelForQuestionAnswering.from_pretrained(\"ixaFiles\")\n",
        "#To download this model\n",
        "#To save it once you download it\n",
        "#model.save_pretrained(\"ixaFiles\")\n",
        "\n",
        "\n",
        "#def qaSP(question :str,context:str )->str:\n",
        " #   qa = pipeline(\"question-answering\", model=model_name, tokenizer=model_name)\n",
        "  #  pred = qa(question=question,context=context, max_length=256)\n",
        "   # return pred['answer']\n",
        "#print(qaSP(question,context))"
      ]
    },
    {
      "cell_type": "markdown",
      "source": [
        "# Libraries"
      ],
      "metadata": {
        "id": "TF_kf8KvRWR2"
      }
    },
    {
      "cell_type": "code",
      "source": [
        "!pip install datasets transformers sklearn"
      ],
      "metadata": {
        "colab": {
          "base_uri": "https://localhost:8080/"
        },
        "id": "Qtfus9_LW6Lo",
        "outputId": "2f7872b1-e471-4682-de29-d0847906f47d"
      },
      "execution_count": 1,
      "outputs": [
        {
          "output_type": "stream",
          "name": "stdout",
          "text": [
            "Looking in indexes: https://pypi.org/simple, https://us-python.pkg.dev/colab-wheels/public/simple/\n",
            "Requirement already satisfied: datasets in /usr/local/lib/python3.9/dist-packages (2.10.1)\n",
            "Requirement already satisfied: transformers in /usr/local/lib/python3.9/dist-packages (4.26.1)\n",
            "Requirement already satisfied: aiohttp in /usr/local/lib/python3.9/dist-packages (from datasets) (3.8.4)\n",
            "Requirement already satisfied: dill<0.3.7,>=0.3.0 in /usr/local/lib/python3.9/dist-packages (from datasets) (0.3.6)\n",
            "Requirement already satisfied: packaging in /usr/local/lib/python3.9/dist-packages (from datasets) (23.0)\n",
            "Requirement already satisfied: xxhash in /usr/local/lib/python3.9/dist-packages (from datasets) (3.2.0)\n",
            "Requirement already satisfied: huggingface-hub<1.0.0,>=0.2.0 in /usr/local/lib/python3.9/dist-packages (from datasets) (0.13.1)\n",
            "Requirement already satisfied: pandas in /usr/local/lib/python3.9/dist-packages (from datasets) (1.3.5)\n",
            "Requirement already satisfied: numpy>=1.17 in /usr/local/lib/python3.9/dist-packages (from datasets) (1.22.4)\n",
            "Requirement already satisfied: fsspec[http]>=2021.11.1 in /usr/local/lib/python3.9/dist-packages (from datasets) (2023.3.0)\n",
            "Requirement already satisfied: pyarrow>=6.0.0 in /usr/local/lib/python3.9/dist-packages (from datasets) (9.0.0)\n",
            "Requirement already satisfied: responses<0.19 in /usr/local/lib/python3.9/dist-packages (from datasets) (0.18.0)\n",
            "Requirement already satisfied: pyyaml>=5.1 in /usr/local/lib/python3.9/dist-packages (from datasets) (6.0)\n",
            "Requirement already satisfied: requests>=2.19.0 in /usr/local/lib/python3.9/dist-packages (from datasets) (2.25.1)\n",
            "Requirement already satisfied: tqdm>=4.62.1 in /usr/local/lib/python3.9/dist-packages (from datasets) (4.65.0)\n",
            "Requirement already satisfied: multiprocess in /usr/local/lib/python3.9/dist-packages (from datasets) (0.70.14)\n",
            "Requirement already satisfied: regex!=2019.12.17 in /usr/local/lib/python3.9/dist-packages (from transformers) (2022.6.2)\n",
            "Requirement already satisfied: filelock in /usr/local/lib/python3.9/dist-packages (from transformers) (3.9.0)\n",
            "Requirement already satisfied: tokenizers!=0.11.3,<0.14,>=0.11.1 in /usr/local/lib/python3.9/dist-packages (from transformers) (0.13.2)\n",
            "Requirement already satisfied: multidict<7.0,>=4.5 in /usr/local/lib/python3.9/dist-packages (from aiohttp->datasets) (6.0.4)\n",
            "Requirement already satisfied: async-timeout<5.0,>=4.0.0a3 in /usr/local/lib/python3.9/dist-packages (from aiohttp->datasets) (4.0.2)\n",
            "Requirement already satisfied: charset-normalizer<4.0,>=2.0 in /usr/local/lib/python3.9/dist-packages (from aiohttp->datasets) (3.1.0)\n",
            "Requirement already satisfied: aiosignal>=1.1.2 in /usr/local/lib/python3.9/dist-packages (from aiohttp->datasets) (1.3.1)\n",
            "Requirement already satisfied: frozenlist>=1.1.1 in /usr/local/lib/python3.9/dist-packages (from aiohttp->datasets) (1.3.3)\n",
            "Requirement already satisfied: yarl<2.0,>=1.0 in /usr/local/lib/python3.9/dist-packages (from aiohttp->datasets) (1.8.2)\n",
            "Requirement already satisfied: attrs>=17.3.0 in /usr/local/lib/python3.9/dist-packages (from aiohttp->datasets) (22.2.0)\n",
            "Requirement already satisfied: typing-extensions>=3.7.4.3 in /usr/local/lib/python3.9/dist-packages (from huggingface-hub<1.0.0,>=0.2.0->datasets) (4.5.0)\n",
            "Requirement already satisfied: urllib3<1.27,>=1.21.1 in /usr/local/lib/python3.9/dist-packages (from requests>=2.19.0->datasets) (1.26.14)\n",
            "Requirement already satisfied: chardet<5,>=3.0.2 in /usr/local/lib/python3.9/dist-packages (from requests>=2.19.0->datasets) (4.0.0)\n",
            "Requirement already satisfied: certifi>=2017.4.17 in /usr/local/lib/python3.9/dist-packages (from requests>=2.19.0->datasets) (2022.12.7)\n",
            "Requirement already satisfied: idna<3,>=2.5 in /usr/local/lib/python3.9/dist-packages (from requests>=2.19.0->datasets) (2.10)\n",
            "Requirement already satisfied: python-dateutil>=2.7.3 in /usr/local/lib/python3.9/dist-packages (from pandas->datasets) (2.8.2)\n",
            "Requirement already satisfied: pytz>=2017.3 in /usr/local/lib/python3.9/dist-packages (from pandas->datasets) (2022.7.1)\n",
            "Requirement already satisfied: six>=1.5 in /usr/local/lib/python3.9/dist-packages (from python-dateutil>=2.7.3->pandas->datasets) (1.15.0)\n"
          ]
        }
      ]
    },
    {
      "cell_type": "markdown",
      "source": [
        "# Finding the UNK token\n",
        "### this is done finding what produces the UNK token  in the line  using the output text such as output.offsets[index] where index is the position of the UNK token"
      ],
      "metadata": {
        "id": "2G07DDVCjT0I"
      }
    },
    {
      "cell_type": "markdown",
      "source": [
        "# Fine Tuning Section\n",
        "\n",
        "\n",
        "\n"
      ],
      "metadata": {
        "id": "SEcajmi0v1vu"
      }
    },
    {
      "cell_type": "markdown",
      "source": [
        "# Dataset Management"
      ],
      "metadata": {
        "id": "Lp6yJm8pgZRM"
      }
    },
    {
      "cell_type": "code",
      "source": [
        "import json\n",
        "from pathlib import Path\n",
        "\n",
        "def read_squad(path):\n",
        "    path = Path(path)\n",
        "    with open(path, 'rb') as f:\n",
        "        MLQA = json.load(f)\n",
        "\n",
        "    contexts = []\n",
        "    questions = []\n",
        "    answers = []\n",
        "    for group in MLQA['data']:\n",
        "        for passage in group['paragraphs']:\n",
        "            context = passage['context']\n",
        "            for qa in passage['qas']:\n",
        "                question = qa['question']\n",
        "                for answer in qa['answers']:\n",
        "                    contexts.append(context)\n",
        "                    questions.append(question)\n",
        "                    answers.append(answer)\n",
        "\n",
        "    return contexts, questions, answers\n",
        "contexts, questions, answers = read_squad(\"datasets/xquad.es.json\")\n"
      ],
      "metadata": {
        "id": "s4AOxP5GgbKG"
      },
      "execution_count": 3,
      "outputs": []
    },
    {
      "cell_type": "markdown",
      "source": [
        "#Traning and Validation Data"
      ],
      "metadata": {
        "id": "ZCKQ3qE22v0q"
      }
    },
    {
      "cell_type": "code",
      "source": [
        "from  sklearn.model_selection import train_test_split \n",
        "pTest=0.2 #20 percent  for eval\n",
        "trainContext,valContext,trainQuestions,valQuestions,trainAnswers,valAnswers=train_test_split(contexts,questions,answers,shuffle=False) #randomize samples\n"
      ],
      "metadata": {
        "id": "a6oHImTcwXl3"
      },
      "execution_count": 4,
      "outputs": []
    },
    {
      "cell_type": "markdown",
      "source": [
        "# Start and End Character verification\n",
        "\n"
      ],
      "metadata": {
        "id": "7r3CpPnS4t-4"
      }
    },
    {
      "cell_type": "code",
      "source": [
        "def addEndId(tAnswers, tContexts):\n",
        "    for i in range(len(tAnswers)):\n",
        "        text = tAnswers[i]['text']\n",
        "        startId  =tAnswers[i]['answer_start']\n",
        "        endId = startId + len(text)\n",
        "        # sometimes squad answers are off by a character or two – fix this\n",
        "        if tContexts[i][startId:endId] == text:\n",
        "            tAnswers[i]['answer_end'] = endId\n",
        "        elif tContexts[i][startId-1:endId-1] == text:\n",
        "            tAnswers[i]['answer_start'] = startId - 1\n",
        "            tAnswers[i]['answer_end'] = endId - 1     # When the gold label is off by one character\n",
        "        elif context[startId-2:endId-2] == text:\n",
        "            tAnswers[i]['answer_start'] = startId - 2\n",
        "            tAnswers[i]['answer_end'] = endId - 2     # When the gold label is off by two characters\n",
        "\n",
        "addEndId(trainAnswers, trainContext)\n",
        "addEndId(valAnswers, valContext)\n"
      ],
      "metadata": {
        "id": "MZiUYeqw4nBP"
      },
      "execution_count": 5,
      "outputs": []
    },
    {
      "cell_type": "markdown",
      "source": [
        "# Tokenize"
      ],
      "metadata": {
        "id": "lxQxS7ubJrlT"
      }
    },
    {
      "cell_type": "code",
      "source": [
        "from transformers import DistilBertTokenizerFast\n",
        "tokenizer = DistilBertTokenizerFast.from_pretrained('distilbert-base-uncased')\n",
        "\n",
        "trainEncodings = tokenizer(trainContext, trainQuestions, truncation=True, padding=True)\n",
        "valEncodings = tokenizer(valContext, valQuestions, truncation=True, padding=True)"
      ],
      "metadata": {
        "id": "fAuWAAvsJrVR"
      },
      "execution_count": 6,
      "outputs": []
    },
    {
      "cell_type": "markdown",
      "source": [
        "# Start and End character to token"
      ],
      "metadata": {
        "id": "5U3WsvXHK7nc"
      }
    },
    {
      "cell_type": "code",
      "source": [
        "def addTokenPositions(encodings, answers):\n",
        "    startPositions = []\n",
        "    endPositions = []\n",
        "    for i in range(len(answers)):\n",
        "        startPositions.append(encodings.char_to_token(i, answers[i]['answer_start']))\n",
        "        endPositions.append(encodings.char_to_token(i, answers[i]['answer_end'] - 1))\n",
        "        # if None, the answer passage has been truncated\n",
        "        if startPositions[-1] is None:\n",
        "            startPositions[-1] = tokenizer.model_max_length\n",
        "        if endPositions[-1] is None:\n",
        "            endPositions[-1] = tokenizer.model_max_length\n",
        "    encodings.update({'startPositions': startPositions, 'endPositions': endPositions})\n",
        "\n",
        "addTokenPositions(trainEncodings, trainAnswers)\n",
        "addTokenPositions(valEncodings, valAnswers)"
      ],
      "metadata": {
        "id": "e_TfZLXYK7IR"
      },
      "execution_count": 7,
      "outputs": []
    },
    {
      "cell_type": "markdown",
      "source": [
        "# Torch Training"
      ],
      "metadata": {
        "id": "JfV0qqo7M36g"
      }
    },
    {
      "cell_type": "code",
      "source": [
        "import torch \n",
        "class XquadDataset(torch.utils.data.Dataset):\n",
        "    def __init__(self, encodings):\n",
        "        self.encodings = encodings\n",
        "\n",
        "    def __getitem__(self, idx):\n",
        "        return {key: torch.tensor(val[idx]) for key, val in self.encodings.items()}\n",
        "\n",
        "    def __len__(self):\n",
        "        return len(self.encodings.input_ids)\n",
        "\n",
        "trainDataset = XquadDataset(trainEncodings)\n",
        "\n",
        "valDataset = XquadDataset(valEncodings)\n"
      ],
      "metadata": {
        "id": "6Y7IgGU2M8kO"
      },
      "execution_count": 8,
      "outputs": []
    },
    {
      "cell_type": "markdown",
      "source": [
        "# bert2bert  base for QA"
      ],
      "metadata": {
        "id": "vRyM5bLLNMsx"
      }
    },
    {
      "cell_type": "code",
      "source": [
        "from transformers import  Trainer, TrainingArguments,AutoModelForSeq2SeqLM\n",
        "\n",
        "training_args = TrainingArguments(\n",
        "    output_dir='./results',          # output directory\n",
        "    num_train_epochs=1,              # total number of training epochs\n",
        "    per_device_train_batch_size=16,  # batch size per device during training\n",
        "    per_device_eval_batch_size=64,   # batch size for evaluation\n",
        "    warmup_steps=100,                # number of warmup steps for learning rate scheduler\n",
        "    weight_decay=0.01,               # strength of weight decay\n",
        "    logging_dir='./logs',            # directory for storing logs\n",
        "    logging_steps=10,\n",
        ")\n",
        "\n",
        "model = AutoModelForSeq2SeqLM.from_pretrained(\"b2bFiles\")\n",
        "\n",
        "trainer = Trainer(\n",
        "    model=model,                         # the instantiated 🤗 Transformers model to be trained\n",
        "    args=training_args,                  # training arguments, defined above\n",
        "    train_dataset=trainDataset,         # training dataset\n",
        "    eval_dataset=valDataset             # evaluation dataset\n",
        ")\n",
        "\n",
        "trainer.train()"
      ],
      "metadata": {
        "colab": {
          "base_uri": "https://localhost:8080/"
        },
        "id": "YJBqSmkFNUan",
        "outputId": "759664f4-15ce-4a5c-f1a5-11e1c54378bf"
      },
      "execution_count": null,
      "outputs": [
        {
          "output_type": "stream",
          "name": "stderr",
          "text": [
            "/usr/local/lib/python3.9/dist-packages/transformers/optimization.py:306: FutureWarning: This implementation of AdamW is deprecated and will be removed in a future version. Use the PyTorch implementation torch.optim.AdamW instead, or set `no_deprecation_warning=True` to disable this warning\n",
            "  warnings.warn(\n",
            "***** Running training *****\n",
            "  Num examples = 114\n",
            "  Num Epochs = 1\n",
            "  Instantaneous batch size per device = 16\n",
            "  Total train batch size (w. parallel, distributed & accumulation) = 16\n",
            "  Gradient Accumulation steps = 1\n",
            "  Total optimization steps = 8\n",
            "  Number of trainable parameters = 248101146\n",
            "The following columns in the training set don't have a corresponding argument in `EncoderDecoderModel.forward` and have been ignored: startPositions, endPositions. If startPositions, endPositions are not expected by `EncoderDecoderModel.forward`,  you can safely ignore this message.\n"
          ]
        }
      ]
    },
    {
      "cell_type": "markdown",
      "source": [],
      "metadata": {
        "id": "F1rTkZ0iNgzM"
      }
    },
    {
      "cell_type": "markdown",
      "source": [
        "# Test"
      ],
      "metadata": {
        "id": "l0Ii_i9nJvMl"
      }
    },
    {
      "cell_type": "code",
      "source": [
        "from datasets import load_dataset\n",
        "dataset = load_dataset(\"xtreme\", \"MLQA.es.es\")\n",
        "\n",
        "#Tokenizing the data\n",
        "from transformers import AutoTokenizer\n",
        "tokenizer = AutoTokenizer.from_pretrained(\"b2bFiles\")\n",
        "\n",
        "def tokenize_function(dataset):\n",
        "    return tokenizer(dataset[\"context\"], padding=\"max_length\", truncation=True)\n",
        "\n",
        "\n",
        "tokenized_datasets = dataset.map(tokenize_function, batched=True)"
      ],
      "metadata": {
        "colab": {
          "base_uri": "https://localhost:8080/",
          "height": 138,
          "referenced_widgets": [
            "738dbe7b3b3b428d85aada192613d9bc",
            "4d15542ae58c49c99c5da22756b3faa9",
            "1ccff0305ac44a30a3a01e42a9174726",
            "8b7c6e7300724cf799de4267e8129e9e",
            "aa718c3dd5424662872ffdfb4c8dbd0a",
            "1997fdf81f884ea096baf45ce7b464d1",
            "f388494fb6244fd3a015a104efe92ed0",
            "902b1419899a4553ac565cafb3dce87a",
            "8a1fb55aaf844f19835eaa2a7a5d2032",
            "7c78a15a4b2048ed9b49ab53aaa63e8c",
            "c267119f9c97499f99e6387b83012d7f",
            "6d7631b29e37474794d4a3f9bfe7a03b",
            "503c1c54967b46c0850a53667cdd800f",
            "e2e1743f317a479c95ad5961cb703404",
            "447f43ad68694e039714e23de5b6987b",
            "2a4da560a5c74ce084b1251b83c60973",
            "4f585f32d1de4146a556b6b1678c95aa",
            "eb82580569084fce9c973b4c09df1691",
            "fa69b0b323874193b32598a00f396d92",
            "906e911a0f4640b3832e994d1bc342ba",
            "3099655bb1cc4d40bfb989d2cc214df0",
            "af82d149c5a14809a98a29bbd9591871"
          ]
        },
        "id": "7VDWyJJIviOb",
        "outputId": "7e43931c-ad7a-4232-b9fc-8a391bc7125e"
      },
      "execution_count": null,
      "outputs": [
        {
          "output_type": "stream",
          "name": "stderr",
          "text": [
            "WARNING:datasets.builder:Found cached dataset xtreme (/root/.cache/huggingface/datasets/xtreme/MLQA.es.es/1.0.0/29f5d57a48779f37ccb75cb8708d1095448aad0713b425bdc1ff9a4a128a56e4)\n"
          ]
        },
        {
          "output_type": "display_data",
          "data": {
            "text/plain": [
              "  0%|          | 0/2 [00:00<?, ?it/s]"
            ],
            "application/vnd.jupyter.widget-view+json": {
              "version_major": 2,
              "version_minor": 0,
              "model_id": "738dbe7b3b3b428d85aada192613d9bc"
            }
          },
          "metadata": {}
        },
        {
          "output_type": "stream",
          "name": "stderr",
          "text": [
            "WARNING:datasets.arrow_dataset:Loading cached processed dataset at /root/.cache/huggingface/datasets/xtreme/MLQA.es.es/1.0.0/29f5d57a48779f37ccb75cb8708d1095448aad0713b425bdc1ff9a4a128a56e4/cache-834297a80c9fc568.arrow\n"
          ]
        },
        {
          "output_type": "display_data",
          "data": {
            "text/plain": [
              "Map:   0%|          | 0/500 [00:00<?, ? examples/s]"
            ],
            "application/vnd.jupyter.widget-view+json": {
              "version_major": 2,
              "version_minor": 0,
              "model_id": "6d7631b29e37474794d4a3f9bfe7a03b"
            }
          },
          "metadata": {}
        },
        {
          "output_type": "stream",
          "name": "stderr",
          "text": [
            "Asking to pad to max_length but no maximum length is provided and the model has no predefined maximum length. Default to no padding.\n",
            "Asking to truncate to max_length but no maximum length is provided and the model has no predefined maximum length. Default to no truncation.\n"
          ]
        }
      ]
    },
    {
      "cell_type": "markdown",
      "source": [
        "# Limpieza de duplicados"
      ],
      "metadata": {
        "id": "8lETwFbBkQIw"
      }
    },
    {
      "cell_type": "code",
      "source": [
        "train_contexts=list(dict.fromkeys(train_contexts))\n",
        "train_questions=list(dict.fromkeys(train_questions))\n",
        "train_answers=list(dict.fromkeys(train_questions))"
      ],
      "metadata": {
        "colab": {
          "base_uri": "https://localhost:8080/"
        },
        "id": "lQhqBG4ehv4k",
        "outputId": "36f9bcec-d863-4c6e-bfd2-fc198218375f"
      },
      "execution_count": null,
      "outputs": [
        {
          "output_type": "execute_result",
          "data": {
            "text/plain": [
              "['¿Cuántos puntos dejaron escapar en defensa los Panthers?',\n",
              " '¿Cuántas capturas ha conseguido Jared Allen en su carrera?',\n",
              " '¿Cuántos derribos se anotó Luke Kuechly?',\n",
              " '¿Cuántos balones interceptó Josh Norman?',\n",
              " '¿Quién de todo el equipo ha conseguido más capturas esta temporada?',\n",
              " '¿Cuántas intercepciones se le atribuyen a la defensa de los Panthers en 2015?',\n",
              " '¿Quién lideró a los Panthers en capturas?',\n",
              " '¿Cuántos jugadores defensivos de los Panthers fueron seleccionados para la Pro Bowl?',\n",
              " '¿Cuántos balones sueltos forzados logró Thomas Davis?',\n",
              " '¿Qué jugador tuvo el mayor número de intercepciones de la temporada?',\n",
              " 'En la temporada 2015, ¿cuántas intercepciones consiguió la defensa de los Panthers?',\n",
              " '¿Quién obtuvo cinco capturas en nueve partidos como titular de los Carolina Panthers?',\n",
              " '¿Quién fue el líder en derribos de los Panthers en 2015?',\n",
              " '¿Con cuántas intercepciones Josh Norman consiguió touchdowns en 2015?',\n",
              " '¿Quién perdió contra los Broncos en la ronda divisional?',\n",
              " '¿Cuántos puntos anotaron los Broncos en los tres últimos minutos del partido contra Pittsburgh?',\n",
              " '¿Quién ganó la Super Bowl XLIX?',\n",
              " '¿Cuál fue el resultado final del Campeonato de la AFC?',\n",
              " '¿Cuánto tiempo quedaba cuando los Broncos lograron la intercepción que decidió el Campeonato de la AFC?',\n",
              " '¿Qué equipo fue el vencedor de la ronda divisional entre los Broncos y los Steelers?',\n",
              " '¿Cuál fue el resultado final entre los Broncos y los Steelers?',\n",
              " '¿Cuántos segundos quedaban cuando los Broncos interceptaron el pase que les hizo ganar el partido?',\n",
              " 'Durante las eliminatorias de los Broncos, ¿Quién no decepcionó en ninguno de los partidos?',\n",
              " '¿A quiénes derrotaron los Broncos en el partido divisional?',\n",
              " '¿Cuántos puntos anotaron los Broncos en los últimos tres minutos del partido contra Pittsburgh?',\n",
              " '¿A quiénes derrotaron los Broncos en el Campeonato de la AFC?',\n",
              " '¿A quiénes derrotaron los Broncos para ganar su división en 2015?',\n",
              " '¿A quiénes derrotaron los Broncos para convertirse en los campeones de la AFC?',\n",
              " '¿Cuántos segundos quedaban de partido cuando los Patriots fallaron su conversión de 2 puntos?',\n",
              " '¿Cuántos años tenía Peyton Manning cuando jugó la Super Bowl 50?',\n",
              " '¿Quién tenía el récord anterior de ser el mariscal de campo más longevo en jugar la Super Bowl?',\n",
              " '¿Cuántos años tenía John Elway cuando jugó la Super Bowl XXXIII?',\n",
              " '¿Qué puesto tiene actualmente John Elway dentro de la franquicia de los Broncos?',\n",
              " '¿Para quién jugaba John Elway en la Super Bowl XXXIII?',\n",
              " '¿Quién fue el equipo campeón de la Super Bowl XXXIII?',\n",
              " '¿Quién es el mánager general de los Broncos?',\n",
              " '¿Cuántos años tenía John Elway cuando ganó la Super Bowl XXXIII?',\n",
              " '¿Quién posee el récord de ser el mariscal de campo más longevo en jugar una Super Bowl?',\n",
              " 'De los equipos para los que jugó Manning, ¿cuántos llegaron a la Super Bowl?',\n",
              " '¿A cuántos equipos diferentes llevo Peyton Manning a la Super Bowl?',\n",
              " '¿Quién es el mariscal de campo más longevo en jugar la Super Bowl?',\n",
              " 'Antes de Manning, ¿quién fue el mariscal de campo más longevo en jugar la Super Bowl?',\n",
              " '¿Cuál fue la Super Bowl que ganó Elway a los 38 años?',\n",
              " '¿Quién fue el primer mariscal de campo en llevar a dos equipos a más de una Super Bowl?',\n",
              " '¿Qué edad tenía Manning cuando jugó la Super Bowl 50?',\n",
              " '¿Cómo se llama el mariscal de campo que tenía 38 años en la Super Bowl XXXIII?',\n",
              " '¿Cuántos Grammys ha ganado Lady Gaga?',\n",
              " '¿Qué cantó Lady Gaga?',\n",
              " '¿Qué premio ha ganado Marlee Matlin?',\n",
              " '¿Qué tradujo Marlee Matlin?',\n",
              " '¿A qué idioma tradujo Marlee Matlin el himno nacional estadounidense?',\n",
              " '¿Quién cantó el himno nacional estadounidense?',\n",
              " '¿Qué actriz hizo la traducción a la lengua de signos (ASL) para el partido?',\n",
              " '¿Quién ejecutó el himno nacional de Estados Unidos en la Super Bowl 50?',\n",
              " '¿Qué estrella de cine reprodujo la lengua de signos para el himno nacional estadounidense en la Super Bowl 50?',\n",
              " '¿Quién interpretó el himno nacional de Estados Unidos en la Super Bowl 50?',\n",
              " 'De acuerdo con lo que dice el texto, ¿cuántos premios Grammy ha ganado Lady Gaga?',\n",
              " '¿Quién utilizó la lengua de signos para el himno nacional en la Super Bowl 50?',\n",
              " '¿En qué línea de yarda empezó Carolina con 4 min 51 s de tiempo restante en el marcador?',\n",
              " '¿Quién perdió el balón en el tercer down a 9 yardas?',\n",
              " '¿Qué jugador de los Panthers fue amonestado por agarrón en el tercer down?',\n",
              " '¿Qué jugador «metió» el balón desde la línea de 2 yardas?',\n",
              " '¿Quién fue el receptor en la exitosa conversión de 2 puntos?',\n",
              " '¿Quién sustrajo el balón a Newton en el tercer down a nueve yardas?',\n",
              " '¿Quién recuperó el balón sustraído? ',\n",
              " '¿Qué jugador fue criticado por no saltar a la pila para recuperar el balón?',\n",
              " '¿Qué jugador de los Panthers cometió un penalti que dio a los Broncos una nueva serie de downs?',\n",
              " '¿Cuánto tiempo quedaba de partido cuando Denver puso el resultado en 24-10?',\n",
              " 'Cuando estaban en el último cuarto de partido, ¿cuál era el tiempo en el marcador en el momento en que Carolina consiguió el balón en su línea de 24 yardas?',\n",
              " '¿Cuál era el apellido del jugador que, al final del último cuarto de partido, le sacó el balón a Newton?',\n",
              " '¿Cuál es el apellido del jugador que, en el último cuarto de partido, recuperó finalmente el balón perdido por Newton?',\n",
              " '¿Cuántas jugadas se mantuvo Denver fuera de la zona de anotación tras recibir el balón perdido por Newton?',\n",
              " '¿Cuál es el apellido del jugador que anotó un touchdown de 2 yardas en el último cuarto?',\n",
              " '¿Cómo se llama al Jardín Sajón en polaco?',\n",
              " '¿Dónde se encontraba el Teatro de Verano?',\n",
              " '¿Cuánto tiempo estuvo en funcionamiento el Teatro de Verano?',\n",
              " '¿Cuál fue el primer cabaret literario de Varsovia?',\n",
              " '¿Qué teatro fue el mejor ejemplo de «teatro monumental polaco»?',\n",
              " '¿Quién ganó la Ekstraklasa en el año 2000?',\n",
              " '¿Cuándo ganó el Polonia Varsovia el campeonato antes de haberlo hecho en el 2000?',\n",
              " '¿Cuántas veces ganó la copa el Polonia?',\n",
              " '¿Dónde se encuentra la sede del Polonia?',\n",
              " '¿Por qué el Polonia fue relegado de la máxima categoría del país en 2013?',\n",
              " '¿Qué tipo de ciudad ha sido siempre Varsovia desde su existencia?',\n",
              " '¿Cuál era la población de Varsovia en 1901?',\n",
              " 'De los habitantes de Varsovia en 1901, ¿qué porcentaje era católico?',\n",
              " '¿Qué porcentaje de la población de Varsovia era protestante en 1901?',\n",
              " '¿Cuándo fueron destruidos la mayoría de los lugares de culto religioso en Varsovia?',\n",
              " '¿Cuál es la unidad básica de división territorial en Polonia?',\n",
              " '¿Cuál es el segundo nivel de división territorial en Polonia?',\n",
              " '¿En qué barrios los números de registro de automóviles son del mismo tipo para todos?',\n",
              " '¿Cuándo se creó la primera bolsa de valores de Varsovia?',\n",
              " '¿Qué sucedió para que la Bolsa de Valores de Varsovia parara su actividad?',\n",
              " '¿Cuándo reabrió sus puertas la Bolsa de Valores de Varsovia?',\n",
              " '¿Cuántas sociedades cotizaban en la Bolsa de Valores de Varsovia en agosto de 2009?',\n",
              " '¿En qué antigua sede se encontraba la Bolsa de Valores de Varsovia hasta el año 2000?',\n",
              " '¿Quién, a su llegada, proporcionó una identidad común a los primeros colonos vikingos?',\n",
              " '¿Cómo se llamaba el líder a quien Enrique III concedió un título nobiliario?',\n",
              " '¿Quién fue conde de Melfi?',\n",
              " '¿Quién fue el principal enemigo de los normandos en Italia, el Imperio bizantino y Armenia?',\n",
              " '¿Cuál era el nombre del castillo normando?',\n",
              " '¿Quién era el líder cuando los francos se adentraron en el valle del Éufrates?',\n",
              " '¿Con quién se unieron los normandos en Anatolia?',\n",
              " '¿Enfrente a las costas de qué continente se encuentran las islas Canarias?',\n",
              " '¿En qué año murió Tesla?',\n",
              " '¿A qué se le llamó el Tesla, en su honor?',\n",
              " '¿Dónde vivió Tesla la mayor parte de su vida?',\n",
              " '¿Cuál era la reputación de Tesla en la cultura popular?',\n",
              " '¿Cómo financiaba Tesla su trabajo?',\n",
              " '¿A qué le dio el nombre de Tesla, la Conferencia General de Pesos y Medidas en 1960?',\n",
              " '¿Cuándo volvió la gente a interesarse otra vez por Tesla?',\n",
              " 'Además de ser conocido por sus logros científicos, ¿por qué otra cosa era conocido Tesla?',\n",
              " '¿Con quién se asoció Tesla en 1886?',\n",
              " '¿Qué financiaron Lane y Vail?',\n",
              " '¿Qué hacía Tesla Electric Light & Manufacturing?',\n",
              " '¿Qué fue lo primero que recibió Tesla tras crear su empresa?',\n",
              " '¿Qué se producía en la empresa de Tesla?',\n",
              " '¿Cuáles eran los nombres de los nuevos socios de Tesla?',\n",
              " '¿Cuándo se formó la sociedad entre Tesla, Lane y Vale?',\n",
              " '¿Cuál fue el nombre de la compañía que financiaron los empresarios?',\n",
              " '¿Qué hacia Tesla Electric Light & Manufacturing?',\n",
              " '¿Quién diseñó los sistemas de iluminación que instalaba Tesla Electric Light & Manufacturing?',\n",
              " '¿Cuándo obtuvo Tesla la patente por su transmisor eléctrico?',\n",
              " '¿Quién fue el primero en enviar ondas de radio a través del Atlántico?',\n",
              " '¿Cuándo se produjo la demostración de radio de Marconi?',\n",
              " '¿Cuándo se restauraron las patentes de Tesla?',\n",
              " '¿Un decisión tomada por qué entidad restauró las patentes de Tesla?',\n",
              " '¿Cuántas posibles propuestas habían para el premio en 1915?',\n",
              " '¿Quién recibió una propuesta en 1915?',\n",
              " '¿En qué año Tesla recibió una propuesta para el premio Nobel?',\n",
              " '¿Qué artículo fue publicado en 1937?',\n",
              " 'Debido a ciertas declaraciones, ¿qué se creía sobre las opiniones religiosas de Tesla?',\n",
              " 'De acuerdo con el título del artículo, ¿con qué esperaba acabar la máquina?',\n",
              " '¿Qué rama de la ciencia computacional teórica se encarga de la clasificación de los problemas computacionales por dificultad y clase de relación?',\n",
              " '¿Cuál es el principal atributo que se utiliza para clasificar los problemas computacionales utilizando la teoría de la complejidad computacional?',\n",
              " '¿Qué término se utiliza para definir una tarea que puede ser resuelta por un ordenador?',\n",
              " 'En un problema computacional, ¿qué es lo que se describe como un cadena de elementos de un alfabeto? ',\n",
              " '¿Cómo se llama el alfabeto usado normalmente en una instancia?',\n",
              " '¿De qué otra manera se puede llamar a la cadena de una instancia?',\n",
              " 'En cuanto a la codificación de objetos matemáticos, ¿De qué manera se expresan normalmente los números enteros?',\n",
              " '¿De qué manera se pueden codificar los gráficos?',\n",
              " '¿Cómo puede ser reformulado un problema de función?',\n",
              " 'Si dos números enteros se multiplican y generan un valor, ¿qué nombre recibe ese conjunto?',\n",
              " '¿Cómo se llama el tiempo requerido por una máquina de Turing determinista para generar una respuesta?',\n",
              " '¿En qué atributo se basa la teoría de la complejidad para clasificar problemas?',\n",
              " '¿Cómo se define al conjunto de problemas que pueden resolverse dentro de un tiempo f(n) en una máquina de Turing determinista?',\n",
              " 'A la hora de evaluar y determinar la capacidad de la máquina de Turing para resolver una serie de problemas dado, ¿cuál es el factor más importante a tener en cuenta?',\n",
              " '¿Cuál es el supuesto no demostrado generalmente atribuido al valor de las clases de complejidad?',\n",
              " '¿Cuál es la secuencia que puede utilizarse para ilustrar esta sospechada desigualdad de las clases de complejidad?',\n",
              " '¿En dónde pueden ubicarse las clases de complejidad RP, BPP, PP, BQP, MA y PH?',\n",
              " '¿Cuál es la demostración entre las clases de complejidad complejas que significaría un punto de inflexión en la teoría de la complejidad?']"
            ]
          },
          "metadata": {},
          "execution_count": 31
        }
      ]
    }
  ]
}